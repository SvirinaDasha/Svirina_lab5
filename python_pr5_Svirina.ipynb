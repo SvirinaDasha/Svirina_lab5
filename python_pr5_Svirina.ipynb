{
  "nbformat": 4,
  "nbformat_minor": 0,
  "metadata": {
    "colab": {
      "provenance": []
    },
    "kernelspec": {
      "name": "python3",
      "display_name": "Python 3"
    },
    "language_info": {
      "name": "python"
    }
  },
  "cells": [
    {
      "cell_type": "markdown",
      "source": [
        "# I. OOP"
      ],
      "metadata": {
        "id": "5qV_sehzFCTp"
      }
    },
    {
      "cell_type": "markdown",
      "source": [
        "1. (6б). Створіть клас Animal, додайте три атрибути, один з яких має значення за замовчуванням та два методи на свій розсуд."
      ],
      "metadata": {
        "id": "tx_U_hOALyfg"
      }
    },
    {
      "cell_type": "code",
      "source": [
        "class Animal:\n",
        "    def __init__(self, name, species, age=5):\n",
        "        self.name = name\n",
        "        self.species = species\n",
        "        self.age = age\n",
        "\n",
        "    def introduce(self):\n",
        "        \"\"\"Метод, який друкує інформацію про тварину\"\"\"\n",
        "        print(f\"Привіт! Мене звати {self.name}, я - {self.species} і мені {self.age} років.\")\n",
        "\n",
        "    def celebrate_birthday(self):\n",
        "        \"\"\"Метод, що збільшує вік тварини на 1\"\"\"\n",
        "        self.age += 1\n",
        "        print(f\"Ура! Тепер мені {self.age} років.\")\n",
        "\n",
        "\n",
        "my_animal = Animal(name=\"Чарлі\", species=\"собака\")\n",
        "\n",
        "\n",
        "my_animal.introduce()\n",
        "\n",
        "my_animal.celebrate_birthday()\n",
        "\n",
        "# Можна знову викликати метод introduce(), щоб побачити змінений вік\n",
        "my_animal.introduce()\n"
      ],
      "metadata": {
        "id": "-Vf895KaL88N",
        "colab": {
          "base_uri": "https://localhost:8080/"
        },
        "outputId": "70266785-40b7-4b6f-d9d2-402f16c91062"
      },
      "execution_count": 19,
      "outputs": [
        {
          "output_type": "stream",
          "name": "stdout",
          "text": [
            "Привіт! Мене звати Чарлі, я - собака і мені 5 років.\n",
            "Ура! Тепер мені 6 років.\n",
            "Привіт! Мене звати Чарлі, я - собака і мені 6 років.\n"
          ]
        }
      ]
    },
    {
      "cell_type": "markdown",
      "source": [
        "2. (2б). Створіть два обʼєкти цього класу, де один з обʼєктів створюється із дефолтним значенням атрибуту. На одному обʼєкті отримайте значення його атрибуту, а на іншому викличте один з його методів."
      ],
      "metadata": {
        "id": "X_UlOMB0L93w"
      }
    },
    {
      "cell_type": "code",
      "source": [
        "class Animal:\n",
        "    def __init__(self, name, species, age=5):\n",
        "        self.name = name\n",
        "        self.species = species\n",
        "        self.age = age\n",
        "\n",
        "    def introduce(self):\n",
        "        \"\"\"Метод, який друкує інформацію про тварину\"\"\"\n",
        "        return f\"Привіт! Мене звати {self.name}, я - {self.species} і мені {self.age} років.\"\n",
        "\n",
        "    def celebrate_birthday(self):\n",
        "        \"\"\"Метод, що збільшує вік тварини на 1\"\"\"\n",
        "        self.age += 1\n",
        "        return f\"Ура! Тепер мені {self.age} років.\"\n",
        "\n",
        "# Створимо два об'єкти класу Animal\n",
        "animal1 = Animal(\"Лео\", \"лев\")\n",
        "animal2 = Animal(\"Міа\", \"тигр\", 3)\n",
        "\n",
        "\n",
        "animal1_age = animal1.age\n",
        "\n",
        "\n",
        "animal2_introduction = animal2.introduce()\n",
        "\n",
        "animal1_age, animal2_introduction"
      ],
      "metadata": {
        "id": "7gBu0ESOMCpG",
        "colab": {
          "base_uri": "https://localhost:8080/"
        },
        "outputId": "ea0c0770-1d5c-43c8-a101-ad3b089c7f5b"
      },
      "execution_count": null,
      "outputs": [
        {
          "output_type": "execute_result",
          "data": {
            "text/plain": [
              "(5, 'Привіт! Мене звати Міа, я - тигр і мені 3 років.')"
            ]
          },
          "metadata": {},
          "execution_count": 3
        }
      ]
    },
    {
      "cell_type": "markdown",
      "source": [
        "3. (5б). Створіть клас, де атрибути мають різні рівні доступу. Спробуйте отримати їхні значення та опишіть результати."
      ],
      "metadata": {
        "id": "HoqSCZt1MHn5"
      }
    },
    {
      "cell_type": "code",
      "source": [
        "\n",
        "class MyClass:\n",
        "    def __init__(self):\n",
        "        self.public_attr = \"Це публічний атрибут\"\n",
        "        self._protected_attr = \"Це захищений атрибут\"\n",
        "        self.__private_attr = \"Це приватний атрибут\"\n",
        "\n",
        "    # Метод для доступу до приватного атрибута\n",
        "    def get_private_attr(self):\n",
        "        return self.__private_attr\n",
        "\n",
        "\n",
        "obj = MyClass()\n",
        "\n",
        "# Спробуємо отримати значення атрибутів\n",
        "public_value = obj.public_attr\n",
        "protected_value = obj._protected_attr\n",
        "try:\n",
        "    private_value = obj.__private_attr\n",
        "except AttributeError as e:\n",
        "    private_value_error = str(e)\n",
        "\n",
        "# Отримуємо значення приватного атрибуту через метод\n",
        "private_value_via_method = obj.get_private_attr()\n",
        "\n",
        "public_value, protected_value, private_value_error, private_value_via_method"
      ],
      "metadata": {
        "id": "r9b3vJxBMSPV",
        "colab": {
          "base_uri": "https://localhost:8080/"
        },
        "outputId": "435154df-6d68-4cb2-9369-eda7ae29ab66"
      },
      "execution_count": null,
      "outputs": [
        {
          "output_type": "execute_result",
          "data": {
            "text/plain": [
              "('Це публічний атрибут',\n",
              " 'Це захищений атрибут',\n",
              " \"'MyClass' object has no attribute '__private_attr'\",\n",
              " 'Це приватний атрибут')"
            ]
          },
          "metadata": {},
          "execution_count": 4
        }
      ]
    },
    {
      "cell_type": "markdown",
      "source": [],
      "metadata": {
        "id": "ji_5NmAGhLRK"
      }
    },
    {
      "cell_type": "markdown",
      "source": [],
      "metadata": {
        "id": "mIm0LWuWhH0G"
      }
    },
    {
      "cell_type": "markdown",
      "source": [
        "\n",
        "\n",
        "\n",
        "У класі MyClass я створила три атрибути з різними рівнями доступу:\n",
        "\n",
        "Публічний атрибут (public_attr) можна легко отримати безпосередньо, і його значення: \"Це публічний атрибут\".\n",
        "Захищений атрибут (_protected_attr) також можна отримати безпосередньо, хоча згідно з конвенцією він призначений для використання всередині класу та його субкласів. Його значення: \"Це захищений атрибут\".\n",
        "Приватний атрибут (__private_attr) не можна отримати напряму ззовні класу через механізм ім'ян, який Python використовує для імітації приватності, спроба доступу до нього напряму призвела до помилки: \"'MyClass' object has no attribute '__private_attr'\". Проте, доступ до приватного атрибуту можна отримати через спеціально визначений метод у класі (get_private_attr()), і його значення: \"Це приватний атрибут\".\n",
        "Як результат, можна побачити, як Python обробляє різні рівні доступу до атрибутів класу: публічні атрибути доступні для будь-кого, захищені атрибути позначаються для внутрішнього використання в класі та його нащадках, а приватні атрибути захищені від зовнішнього доступу, але доступні через методи класу, що дозволяють контрольований доступ до них. ​\n"
      ],
      "metadata": {
        "id": "VG0PdMpzxPt9"
      }
    },
    {
      "cell_type": "markdown",
      "source": [
        "4. (7б). Як ви розумієте термін self? Для чого використовується метод __init __?"
      ],
      "metadata": {
        "id": "5op2m2vgMSkZ"
      }
    },
    {
      "cell_type": "markdown",
      "source": [
        "\n",
        "\n",
        "\n",
        "self у Python - це змінна, яка представляє екземпляр об'єкта всередині класу. Вона використовується для доступу до змінних, які належать конкретному об'єкту, та для виклику методів всередині цього ж об'єкта. Це спосіб сказати: \"працюй з даними саме цього об'єкта, а не з чимось іншим\".\n",
        "\n",
        "Метод __init__ є конструктором класу, який автоматично викликається під час створення нового об'єкта класу. Він використовується для ініціалізації стану об'єкта, наприклад, для присвоєння початкових значень атрибутам об'єкта. Це перший метод, який виконується, коли ви створюєте новий екземпляр класу, дозволяючи вам встановити основні властивості об'єкта при його створенні."
      ],
      "metadata": {
        "id": "DyiPqNRvMasx"
      }
    },
    {
      "cell_type": "markdown",
      "source": [
        "5. (9б). Створіть клас Фігура без атрибутів, з методом get_area для отримання площі фігури, що повертає 0 та __add __, який приймає self та other в якості аргументів, а повертає суму площин фігур self та other."
      ],
      "metadata": {
        "id": "-6X8EGfjMd2y"
      }
    },
    {
      "cell_type": "code",
      "source": [
        "class Фігура:\n",
        "    def get_area(self):\n",
        "        \"\"\"Повертає площу фігури. Для базової фігури площа завжди 0.\"\"\"\n",
        "        return 0\n",
        "\n",
        "    def __add__(self, other):\n",
        "        \"\"\"Дозволяє додавати площі двох фігур, використовуючи їх методи get_area.\"\"\"\n",
        "        return self.get_area() + other.get_area()\n"
      ],
      "metadata": {
        "id": "4rvO_wYUMaEr"
      },
      "execution_count": 20,
      "outputs": []
    },
    {
      "cell_type": "markdown",
      "source": [
        "6. (11б). Створіть 2 дочірніх класи від Фігури: Трикутник та Коло, які мають атрибути, необхідні для розрахунку площин. Визначте метод get_area в кожному з них так, щоби вони розраховували площу в залежності від формули для кожного типу фігури. Створіть обʼєкт класу Трикутник та обʼєкт класу Коло. Виконайте операцію суми за допомогою оператора + між ними."
      ],
      "metadata": {
        "id": "SFcKnnv5Mo_z"
      }
    },
    {
      "cell_type": "code",
      "source": [
        "\n",
        "class Фігура:\n",
        "    def get_area(self):\n",
        "        return 0\n",
        "\n",
        "    def __add__(self, other):\n",
        "        return self.get_area() + other.get_area()\n",
        "\n",
        "class Трикутник(Фігура):\n",
        "    def __init__(self, base, height):\n",
        "        self.base = base\n",
        "        self.height = height\n",
        "\n",
        "    def get_area(self):\n",
        "        return 0.5 * self.base * self.height\n",
        "\n",
        "class Коло(Фігура):\n",
        "    def __init__(self, radius):\n",
        "        self.radius = radius\n",
        "\n",
        "    def get_area(self):\n",
        "        return 3.14159 * (self.radius ** 2)\n",
        "\n",
        "# Створення об'єктів\n",
        "трикутник = Трикутник(10, 5)  # Припустимо, основа 10 та висота 5\n",
        "коло = Коло(7)  # Припустимо, радіус 7\n",
        "\n",
        "# Виконання операції суми\n",
        "сума_площ = трикутник + коло\n",
        "сума_площ\n"
      ],
      "metadata": {
        "id": "H3GVNr69Muf3",
        "colab": {
          "base_uri": "https://localhost:8080/"
        },
        "outputId": "60510f49-367e-4587-bdd3-c501d887faf0"
      },
      "execution_count": 21,
      "outputs": [
        {
          "output_type": "execute_result",
          "data": {
            "text/plain": [
              "178.93791"
            ]
          },
          "metadata": {},
          "execution_count": 21
        }
      ]
    },
    {
      "cell_type": "markdown",
      "source": [
        "7. (3б). Продемонструйте різницю між isinstance та issubclass."
      ],
      "metadata": {
        "id": "HCvR206YMvLK"
      }
    },
    {
      "cell_type": "code",
      "source": [
        "class BaseClass:\n",
        "    pass\n",
        "\n",
        "class DerivedClass(BaseClass):\n",
        "    pass\n",
        "\n",
        "obj = DerivedClass()\n",
        "\n",
        "\n",
        "print(isinstance(obj, DerivedClass))  # True, тому що об'єкт є екземпляром ПохіднийКлас\n",
        "print(isinstance(obj, BaseClass))   # True, тому що ПохіднийКлас наслідується від БазовийКлас\n",
        "\n",
        "print(issubclass(DerivedClass, BaseClass))  # True, тому що ПохіднийКлас є підкласом БазовийКлас\n",
        "print(issubclass(BaseClass, DerivedClass))  # False, тому що БазовийКлас не є підкласом ПохіднийКлас\n"
      ],
      "metadata": {
        "id": "L_V1bBvDM0GN",
        "colab": {
          "base_uri": "https://localhost:8080/"
        },
        "outputId": "47ac7fc7-e3ad-461f-995c-922bf7bc9e64"
      },
      "execution_count": 6,
      "outputs": [
        {
          "output_type": "stream",
          "name": "stdout",
          "text": [
            "True\n",
            "True\n",
            "True\n",
            "False\n"
          ]
        }
      ]
    },
    {
      "cell_type": "markdown",
      "source": [
        "isinstance()\n",
        "Перевіряє, чи є об'єкт екземпляром певного класу або одного з класів у кортежі.\n",
        "Це включає перевірку на пряме належення до класу або належення через наслідування.\n",
        "Синтаксис: isinstance(об'єкт, клас_або_кортеж_класів)\n",
        "issubclass()\n",
        "Перевіряє, чи є один клас підкласом іншого класу.\n",
        "Це означає перевірку, чи клас наслідується від іншого класу, безпосередньо або опосередковано через ланцюжок наслідування.\n",
        "Синтаксис: issubclass(підклас, батьківський_клас)\n"
      ],
      "metadata": {
        "id": "HX0-dCK5cGn3"
      }
    },
    {
      "cell_type": "markdown",
      "source": [
        "8. (13б). Створіть клас BankAccount з приватними атрибутами balance та account_number. Реалізуйте методи поповнення та зняття коштів, забезпечивши належну інкапсуляцію. Підказка: використовуйте декоратори property та setter."
      ],
      "metadata": {
        "id": "jjsaBZ-iM0Qq"
      }
    },
    {
      "cell_type": "code",
      "source": [
        "class BankAccount:\n",
        "    def __init__(self, account_number, balance=0):\n",
        "        self.__account_number = account_number\n",
        "        self.__balance = balance\n",
        "\n",
        "    @property\n",
        "    def balance(self):\n",
        "        \"\"\"Повертає поточний баланс рахунку.\"\"\"\n",
        "        return self.__balance\n",
        "\n",
        "    @balance.setter\n",
        "    def balance(self, value):\n",
        "        \"\"\"Забезпечує можливість встановлення балансу, захищаючи від прямого доступу.\"\"\"\n",
        "        raise ValueError(\"Неможливо безпосередньо змінити баланс. Будь ласка, використовуйте методи поповнення або зняття коштів.\")\n",
        "\n",
        "    @property\n",
        "    def account_number(self):\n",
        "        \"\"\"Повертає номер рахунку.\"\"\"\n",
        "        return self.__account_number\n",
        "\n",
        "    def deposit(self, amount):\n",
        "        \"\"\"Поповнення рахунку на вказану суму.\"\"\"\n",
        "        if amount <= 0:\n",
        "            raise ValueError(\"Сума поповнення повинна бути більшою за 0.\")\n",
        "        self.__balance += amount\n",
        "\n",
        "    def withdraw(self, amount):\n",
        "        \"\"\"Зняття суми з рахунку, якщо на ньому достатньо коштів.\"\"\"\n",
        "        if amount > self.__balance:\n",
        "            raise ValueError(\"Недостатньо коштів на рахунку для здійснення операції.\")\n",
        "        self.__balance -= amount\n",
        "\n",
        "# Створення об'єкта рахунку\n",
        "account = BankAccount(\"123456789\", 1000)\n",
        "\n",
        "# Приклад поповнення та зняття коштів\n",
        "account.deposit(500)\n",
        "account.withdraw(200)\n",
        "\n",
        "# Перевірка балансу після операцій\n",
        "account.balance"
      ],
      "metadata": {
        "id": "xCvZ7lh8M7YA",
        "colab": {
          "base_uri": "https://localhost:8080/"
        },
        "outputId": "962e2021-81e9-4215-b704-3bced0190dc7"
      },
      "execution_count": 7,
      "outputs": [
        {
          "output_type": "execute_result",
          "data": {
            "text/plain": [
              "1300"
            ]
          },
          "metadata": {},
          "execution_count": 7
        }
      ]
    },
    {
      "cell_type": "markdown",
      "source": [
        "9. (11б). Створіть клас Library, який містить список об'єктів типу Book. Реалізуйте методи для додавання книги, видалення книги та відображення списку книг."
      ],
      "metadata": {
        "id": "tIzL2SJTM8ft"
      }
    },
    {
      "cell_type": "code",
      "source": [
        "class Book:\n",
        "    def __init__(self, title, author):\n",
        "        self.title = title\n",
        "        self.author = author\n",
        "\n",
        "    def __repr__(self):\n",
        "        return f\"'{self.title}' by {self.author}\"\n",
        "\n",
        "class Library:\n",
        "    def __init__(self):\n",
        "        self.books = []\n",
        "\n",
        "    def add_book(self, book):\n",
        "        \"\"\"Додає книгу до бібліотеки.\"\"\"\n",
        "        self.books.append(book)\n",
        "\n",
        "    def remove_book(self, title):\n",
        "        \"\"\"Видаляє книгу з бібліотеки за назвою.\"\"\"\n",
        "        self.books = [book for book in self.books if book.title != title]\n",
        "\n",
        "    def display_books(self):\n",
        "        \"\"\"Відображає список книг у бібліотеці.\"\"\"\n",
        "        if not self.books:\n",
        "            print(\"Бібліотека пуста.\")\n",
        "        else:\n",
        "            for book in self.books:\n",
        "                print(book)\n",
        "\n",
        "# Створення об'єкта бібліотеки та додавання книг\n",
        "library = Library()\n",
        "library.add_book(Book(\"1984\", \"George Orwell\"))\n",
        "library.add_book(Book(\"To Kill a Mockingbird\", \"Harper Lee\"))\n",
        "\n",
        "# Відображення списку книг\n",
        "library.display_books()\n",
        "\n",
        "# Видалення книги та відображення оновленого списку\n",
        "library.remove_book(\"1984\")\n",
        "library.display_books()\n"
      ],
      "metadata": {
        "id": "HWxfJKLtNAUZ",
        "colab": {
          "base_uri": "https://localhost:8080/"
        },
        "outputId": "e4b289de-7009-4348-9b8e-50e8809ba536"
      },
      "execution_count": 9,
      "outputs": [
        {
          "output_type": "stream",
          "name": "stdout",
          "text": [
            "'1984' by George Orwell\n",
            "'To Kill a Mockingbird' by Harper Lee\n",
            "'To Kill a Mockingbird' by Harper Lee\n"
          ]
        }
      ]
    },
    {
      "cell_type": "markdown",
      "source": [
        "10. (13б). Створіть клас Person з атрибутами name та age. Створіть ще один клас Employee з такими атрибутами, як department та salary. Створіть клас Manager, який успадковує обидва класи Person та Employee. Продемонструйте використання множинної спадковості, створивши обʼєкт класу Manager та отримавши mro для цього класу."
      ],
      "metadata": {
        "id": "lmV8pAwwNIqu"
      }
    },
    {
      "cell_type": "code",
      "source": [
        "class Person:\n",
        "    def __init__(self, name, age):\n",
        "        self.name = name\n",
        "        self.age = age\n",
        "\n",
        "class Employee:\n",
        "    def __init__(self, department, salary):\n",
        "        self.department = department\n",
        "        self.salary = salary\n",
        "\n",
        "class Manager(Person, Employee):\n",
        "    def __init__(self, name, age, department, salary):\n",
        "        Person.__init__(self, name, age)\n",
        "        Employee.__init__(self, department, salary)\n",
        "\n",
        "# Створення об'єкта класу Manager\n",
        "manager = Manager(\"John Doe\", 40, \"IT\", 80000)\n",
        "\n",
        "# Отримання Method Resolution Order (MRO) для класу Manager\n",
        "mro = Manager.__mro__\n",
        "mro\n"
      ],
      "metadata": {
        "id": "R49grKlWNPeN",
        "colab": {
          "base_uri": "https://localhost:8080/"
        },
        "outputId": "801ebb5c-2173-4f87-8da2-3f1285c7fded"
      },
      "execution_count": 10,
      "outputs": [
        {
          "output_type": "execute_result",
          "data": {
            "text/plain": [
              "(__main__.Manager, __main__.Person, __main__.Employee, object)"
            ]
          },
          "metadata": {},
          "execution_count": 10
        }
      ]
    },
    {
      "cell_type": "markdown",
      "source": [
        "# II. Iterator"
      ],
      "metadata": {
        "id": "dIJyUiNBFG8G"
      }
    },
    {
      "cell_type": "markdown",
      "source": [
        "11. (4б). Визначте рядок(str) з 4ма різними за значенням символами. Створіть ітератор на основі цього рядка. Викличте 5 разів функцію next на ітераторі, 4ри перших з них огорніть у ф-цію print()."
      ],
      "metadata": {
        "id": "13vsm0NyKIzL"
      }
    },
    {
      "cell_type": "code",
      "source": [
        "# Визначення рядка з 4 різними символами\n",
        "s = \"abcd\"\n",
        "\n",
        "# Створення ітератора на основі цього рядка\n",
        "iterator = iter(s)\n",
        "\n",
        "# Виклик функції next 4 рази з виведенням результату\n",
        "print(next(iterator))\n",
        "print(next(iterator))\n",
        "print(next(iterator))\n",
        "print(next(iterator))\n",
        "\n",
        "# Спроба викликати next 5-й раз, без використання print для відловлення помилки\n",
        "try:\n",
        "    next(iterator)  # 5-й виклик без print\n",
        "except StopIteration as e:\n",
        "    print(\"StopIteration exception caught\")"
      ],
      "metadata": {
        "id": "81ntabAkKuz-",
        "colab": {
          "base_uri": "https://localhost:8080/"
        },
        "outputId": "b0a30f99-94c5-4dff-dc48-edd178c9204c"
      },
      "execution_count": 14,
      "outputs": [
        {
          "output_type": "stream",
          "name": "stdout",
          "text": [
            "a\n",
            "b\n",
            "c\n",
            "d\n",
            "StopIteration exception caught\n"
          ]
        }
      ]
    },
    {
      "cell_type": "markdown",
      "source": [
        "А що якщо викликати цю ж функцію на рядку?"
      ],
      "metadata": {
        "id": "aekWHGXOLRsO"
      }
    },
    {
      "cell_type": "code",
      "source": [
        "\n",
        "\n",
        "s = \"abcd\"\n",
        "try:\n",
        "    print(next(s))  # Спроба викликати next безпосередньо на рядку\n",
        "except TypeError as e:\n",
        "    print(e)  # Виведення помилки\n",
        "\n"
      ],
      "metadata": {
        "id": "mxATGsErLV1i",
        "colab": {
          "base_uri": "https://localhost:8080/"
        },
        "outputId": "f0855d84-9543-4bca-c5c7-6c55c27eba45"
      },
      "execution_count": 18,
      "outputs": [
        {
          "output_type": "stream",
          "name": "stdout",
          "text": [
            "'str' object is not an iterator\n"
          ]
        }
      ]
    },
    {
      "cell_type": "markdown",
      "source": [
        "При спробі викликати функцію next безпосередньо на рядку \"abcd\", отримуємо помилку TypeError з повідомленням: \"'str' object is not an iterator\". Це підтверджує, що хоча рядок є ітерабельним, для ітерації по ньому потрібно спочатку отримати ітератор за допомогою функції iter()"
      ],
      "metadata": {
        "id": "Gibh4NtLf51B"
      }
    },
    {
      "cell_type": "markdown",
      "source": [
        " 12. (5б). Опишіть своїми словами в одному реченні, як ви розумієте різницю між ітерабельними обʼєктами та ітераторами (можна на прикладі)."
      ],
      "metadata": {
        "id": "XwtMEopwJ4pH"
      }
    },
    {
      "cell_type": "markdown",
      "source": [
        "\n",
        "\n",
        "Ітерабельний об'єкт - це такий, що дозволяє послідовно проходити по своїм елементам (наприклад, список або рядок), тоді як ітератор - це спеціальний об'єкт, створений з ітерабельного об'єкта, який виконує фактичний процес ітерації, використовуючи метод __next__() для доступу до наступного елемента."
      ],
      "metadata": {
        "id": "-sHrODc3KFn8"
      }
    },
    {
      "cell_type": "markdown",
      "source": [
        "13. (11б). Створіть клас, що має визначений Iterator Protocol та при кожному виклику next повертає літери англійської абетки, поки вони не вичерпаються."
      ],
      "metadata": {
        "id": "E9qJWmNbK8Gl"
      }
    },
    {
      "cell_type": "code",
      "source": [
        "\n",
        "class AlphabetIterator:\n",
        "    def __init__(self):\n",
        "        self.letters = 'abcdefghijklmnopqrstuvwxyz'\n",
        "        self.index = 0\n",
        "\n",
        "    def __iter__(self):\n",
        "        return self\n",
        "\n",
        "    def __next__(self):\n",
        "        if self.index < len(self.letters):\n",
        "            result = self.letters[self.index]\n",
        "            self.index += 1\n",
        "            return result\n",
        "        else:\n",
        "            raise StopIteration\n",
        "\n",
        "# Створення ітератора\n",
        "alphabet_iterator = AlphabetIterator()\n",
        "\n",
        "# Використання ітератора для виведення літер англійської абетки\n",
        "alphabet_letters = []\n",
        "try:\n",
        "    while True:\n",
        "        alphabet_letters.append(next(alphabet_iterator))\n",
        "except StopIteration:\n",
        "    pass\n",
        "\n",
        "alphabet_letters\n"
      ],
      "metadata": {
        "id": "cqx-g_RsLo6I",
        "colab": {
          "base_uri": "https://localhost:8080/"
        },
        "outputId": "224c329b-5d89-425f-a644-ef87d7f4704b"
      },
      "execution_count": 15,
      "outputs": [
        {
          "output_type": "execute_result",
          "data": {
            "text/plain": [
              "['a',\n",
              " 'b',\n",
              " 'c',\n",
              " 'd',\n",
              " 'e',\n",
              " 'f',\n",
              " 'g',\n",
              " 'h',\n",
              " 'i',\n",
              " 'j',\n",
              " 'k',\n",
              " 'l',\n",
              " 'm',\n",
              " 'n',\n",
              " 'o',\n",
              " 'p',\n",
              " 'q',\n",
              " 'r',\n",
              " 's',\n",
              " 't',\n",
              " 'u',\n",
              " 'v',\n",
              " 'w',\n",
              " 'x',\n",
              " 'y',\n",
              " 'z']"
            ]
          },
          "metadata": {},
          "execution_count": 15
        }
      ]
    },
    {
      "cell_type": "markdown",
      "source": [
        "# Вітаю! Ви велика(ий) молодець, що впоралась(вся). Похваліть себе та побалуйте чимось приємним. Я Вами пишаюся."
      ],
      "metadata": {
        "id": "Z3E3S_s1Fv7-"
      }
    }
  ]
}